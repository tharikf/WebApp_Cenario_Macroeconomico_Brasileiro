{
 "cells": [
  {
   "cell_type": "code",
   "execution_count": 1,
   "id": "977df17a",
   "metadata": {},
   "outputs": [],
   "source": [
    "import pandas as pd\n",
    "import numpy as np\n",
    "from bcb import sgs\n",
    "from bcb import currency\n",
    "from bcb import Expectativas\n",
    "import datetime\n",
    "import matplotlib.pyplot as plt\n",
    "import seaborn as sns\n",
    "import yfinance as yf"
   ]
  },
  {
   "cell_type": "markdown",
   "id": "c3ccafe6",
   "metadata": {},
   "source": [
    "#### Buscando SELIC"
   ]
  },
  {
   "cell_type": "code",
   "execution_count": 82,
   "id": "f264af5d",
   "metadata": {},
   "outputs": [],
   "source": [
    "selic = sgs.get({'selic' : 432}, start = '2010-01-01')"
   ]
  },
  {
   "cell_type": "code",
   "execution_count": 83,
   "id": "474c4ff0",
   "metadata": {},
   "outputs": [],
   "source": [
    "selic = selic.reset_index()"
   ]
  },
  {
   "cell_type": "code",
   "execution_count": 84,
   "id": "dedb565a",
   "metadata": {},
   "outputs": [
    {
     "data": {
      "text/html": [
       "<div>\n",
       "<style scoped>\n",
       "    .dataframe tbody tr th:only-of-type {\n",
       "        vertical-align: middle;\n",
       "    }\n",
       "\n",
       "    .dataframe tbody tr th {\n",
       "        vertical-align: top;\n",
       "    }\n",
       "\n",
       "    .dataframe thead th {\n",
       "        text-align: right;\n",
       "    }\n",
       "</style>\n",
       "<table border=\"1\" class=\"dataframe\">\n",
       "  <thead>\n",
       "    <tr style=\"text-align: right;\">\n",
       "      <th></th>\n",
       "      <th>Date</th>\n",
       "      <th>selic</th>\n",
       "    </tr>\n",
       "  </thead>\n",
       "  <tbody>\n",
       "    <tr>\n",
       "      <th>4689</th>\n",
       "      <td>2022-11-03</td>\n",
       "      <td>13.75</td>\n",
       "    </tr>\n",
       "    <tr>\n",
       "      <th>4690</th>\n",
       "      <td>2022-11-04</td>\n",
       "      <td>13.75</td>\n",
       "    </tr>\n",
       "    <tr>\n",
       "      <th>4691</th>\n",
       "      <td>2022-11-05</td>\n",
       "      <td>13.75</td>\n",
       "    </tr>\n",
       "    <tr>\n",
       "      <th>4692</th>\n",
       "      <td>2022-11-06</td>\n",
       "      <td>13.75</td>\n",
       "    </tr>\n",
       "    <tr>\n",
       "      <th>4693</th>\n",
       "      <td>2022-11-07</td>\n",
       "      <td>13.75</td>\n",
       "    </tr>\n",
       "    <tr>\n",
       "      <th>4694</th>\n",
       "      <td>2022-11-08</td>\n",
       "      <td>13.75</td>\n",
       "    </tr>\n",
       "  </tbody>\n",
       "</table>\n",
       "</div>"
      ],
      "text/plain": [
       "           Date  selic\n",
       "4689 2022-11-03  13.75\n",
       "4690 2022-11-04  13.75\n",
       "4691 2022-11-05  13.75\n",
       "4692 2022-11-06  13.75\n",
       "4693 2022-11-07  13.75\n",
       "4694 2022-11-08  13.75"
      ]
     },
     "execution_count": 84,
     "metadata": {},
     "output_type": "execute_result"
    }
   ],
   "source": [
    "selic.tail(6)"
   ]
  },
  {
   "cell_type": "code",
   "execution_count": 85,
   "id": "cc4ce0a5",
   "metadata": {},
   "outputs": [
    {
     "data": {
      "image/png": "[encoded data removed]",
      "text/plain": [
       "<Figure size 864x432 with 1 Axes>"
      ]
     },
     "metadata": {
      "needs_background": "light"
     },
     "output_type": "display_data"
    }
   ],
   "source": [
    "fig, ax = plt.subplots(figsize = (12, 6))\n",
    "\n",
    "sns.lineplot(data = selic, x = 'Date', y = 'selic', color = 'green')\n",
    "ax.set_title('Selic', fontsize = 18)\n",
    "ax.spines['top'].set_visible(False)\n",
    "ax.spines['right'].set_visible(False)\n",
    "fig.tight_layout()\n",
    "plt.show();"
   ]
  },
  {
   "cell_type": "code",
   "execution_count": 86,
   "id": "fc36803f",
   "metadata": {},
   "outputs": [],
   "source": [
    "tjlp = sgs.get({'tjlp' : 256}, start = '2022-01-01')"
   ]
  },
  {
   "cell_type": "code",
   "execution_count": 87,
   "id": "9cd6df7a",
   "metadata": {},
   "outputs": [],
   "source": [
    "tjlp = tjlp.reset_index()"
   ]
  },
  {
   "cell_type": "code",
   "execution_count": 88,
   "id": "364b429a",
   "metadata": {},
   "outputs": [
    {
     "data": {
      "text/html": [
       "<div>\n",
       "<style scoped>\n",
       "    .dataframe tbody tr th:only-of-type {\n",
       "        vertical-align: middle;\n",
       "    }\n",
       "\n",
       "    .dataframe tbody tr th {\n",
       "        vertical-align: top;\n",
       "    }\n",
       "\n",
       "    .dataframe thead th {\n",
       "        text-align: right;\n",
       "    }\n",
       "</style>\n",
       "<table border=\"1\" class=\"dataframe\">\n",
       "  <thead>\n",
       "    <tr style=\"text-align: right;\">\n",
       "      <th></th>\n",
       "      <th>Date</th>\n",
       "      <th>tjlp</th>\n",
       "    </tr>\n",
       "  </thead>\n",
       "  <tbody>\n",
       "    <tr>\n",
       "      <th>5</th>\n",
       "      <td>2022-06-01</td>\n",
       "      <td>6.82</td>\n",
       "    </tr>\n",
       "    <tr>\n",
       "      <th>6</th>\n",
       "      <td>2022-07-01</td>\n",
       "      <td>7.01</td>\n",
       "    </tr>\n",
       "    <tr>\n",
       "      <th>7</th>\n",
       "      <td>2022-08-01</td>\n",
       "      <td>7.01</td>\n",
       "    </tr>\n",
       "    <tr>\n",
       "      <th>8</th>\n",
       "      <td>2022-09-01</td>\n",
       "      <td>7.01</td>\n",
       "    </tr>\n",
       "    <tr>\n",
       "      <th>9</th>\n",
       "      <td>2022-10-01</td>\n",
       "      <td>7.20</td>\n",
       "    </tr>\n",
       "    <tr>\n",
       "      <th>10</th>\n",
       "      <td>2022-11-01</td>\n",
       "      <td>7.20</td>\n",
       "    </tr>\n",
       "  </tbody>\n",
       "</table>\n",
       "</div>"
      ],
      "text/plain": [
       "         Date  tjlp\n",
       "5  2022-06-01  6.82\n",
       "6  2022-07-01  7.01\n",
       "7  2022-08-01  7.01\n",
       "8  2022-09-01  7.01\n",
       "9  2022-10-01  7.20\n",
       "10 2022-11-01  7.20"
      ]
     },
     "execution_count": 88,
     "metadata": {},
     "output_type": "execute_result"
    }
   ],
   "source": [
    "tjlp.tail(6)"
   ]
  },
  {
   "cell_type": "markdown",
   "id": "12d8164c",
   "metadata": {},
   "source": [
    "#### Inflacao"
   ]
  },
  {
   "cell_type": "code",
   "execution_count": 89,
   "id": "baab3ac2",
   "metadata": {},
   "outputs": [],
   "source": [
    "inflacao = sgs.get({'ipca' : 433, 'igp-m' : 189, 'inpc' : 188}, start = '2010-01-01')"
   ]
  },
  {
   "cell_type": "code",
   "execution_count": 90,
   "id": "2c6487b7",
   "metadata": {},
   "outputs": [],
   "source": [
    "inflacao = inflacao.reset_index()"
   ]
  },
  {
   "cell_type": "code",
   "execution_count": 92,
   "id": "ec3bc17e",
   "metadata": {},
   "outputs": [
    {
     "data": {
      "text/html": [
       "<div>\n",
       "<style scoped>\n",
       "    .dataframe tbody tr th:only-of-type {\n",
       "        vertical-align: middle;\n",
       "    }\n",
       "\n",
       "    .dataframe tbody tr th {\n",
       "        vertical-align: top;\n",
       "    }\n",
       "\n",
       "    .dataframe thead th {\n",
       "        text-align: right;\n",
       "    }\n",
       "</style>\n",
       "<table border=\"1\" class=\"dataframe\">\n",
       "  <thead>\n",
       "    <tr style=\"text-align: right;\">\n",
       "      <th></th>\n",
       "      <th>Date</th>\n",
       "      <th>ipca</th>\n",
       "      <th>igp-m</th>\n",
       "      <th>inpc</th>\n",
       "    </tr>\n",
       "  </thead>\n",
       "  <tbody>\n",
       "    <tr>\n",
       "      <th>148</th>\n",
       "      <td>2022-05-01</td>\n",
       "      <td>0.47</td>\n",
       "      <td>0.52</td>\n",
       "      <td>0.45</td>\n",
       "    </tr>\n",
       "    <tr>\n",
       "      <th>149</th>\n",
       "      <td>2022-06-01</td>\n",
       "      <td>0.67</td>\n",
       "      <td>0.59</td>\n",
       "      <td>0.62</td>\n",
       "    </tr>\n",
       "    <tr>\n",
       "      <th>150</th>\n",
       "      <td>2022-07-01</td>\n",
       "      <td>-0.68</td>\n",
       "      <td>0.21</td>\n",
       "      <td>-0.60</td>\n",
       "    </tr>\n",
       "    <tr>\n",
       "      <th>151</th>\n",
       "      <td>2022-08-01</td>\n",
       "      <td>-0.36</td>\n",
       "      <td>-0.70</td>\n",
       "      <td>-0.31</td>\n",
       "    </tr>\n",
       "    <tr>\n",
       "      <th>152</th>\n",
       "      <td>2022-09-01</td>\n",
       "      <td>-0.29</td>\n",
       "      <td>-0.95</td>\n",
       "      <td>-0.32</td>\n",
       "    </tr>\n",
       "    <tr>\n",
       "      <th>153</th>\n",
       "      <td>2022-10-01</td>\n",
       "      <td>NaN</td>\n",
       "      <td>-0.97</td>\n",
       "      <td>NaN</td>\n",
       "    </tr>\n",
       "  </tbody>\n",
       "</table>\n",
       "</div>"
      ],
      "text/plain": [
       "          Date  ipca  igp-m  inpc\n",
       "148 2022-05-01  0.47   0.52  0.45\n",
       "149 2022-06-01  0.67   0.59  0.62\n",
       "150 2022-07-01 -0.68   0.21 -0.60\n",
       "151 2022-08-01 -0.36  -0.70 -0.31\n",
       "152 2022-09-01 -0.29  -0.95 -0.32\n",
       "153 2022-10-01   NaN  -0.97   NaN"
      ]
     },
     "execution_count": 92,
     "metadata": {},
     "output_type": "execute_result"
    }
   ],
   "source": [
    "inflacao.tail(6)"
   ]
  },
  {
   "cell_type": "code",
   "execution_count": 63,
   "id": "993f5480",
   "metadata": {},
   "outputs": [],
   "source": [
    "def inflacao_ipca_anual(df_inflacao):\n",
    "    inflacao_df = df_inflacao.copy()\n",
    "    inflacao_df = inflacao_df.reset_index()\n",
    "    inflacao_df = inflacao_df.dropna().tail(12)\n",
    "    \n",
    "    # acumulando IPCA\n",
    "    inflacao_ipca = inflacao_df[['Date', 'ipca']]\n",
    "    inflacao_ipca = inflacao_ipca.assign(ipca_indice = False)\n",
    "    for i in inflacao_ipca.loc[1:, 'ipca_indice']:\n",
    "        inflacao_ipca['ipca_indice'] = (inflacao_ipca['ipca'] / 100) + 1\n",
    "    \n",
    "    inflacao_ipca.iloc[0, -1] = 1\n",
    "    inflacao_ipca['ipca_acumulado'] = np.cumprod(inflacao_ipca['ipca_indice'])\n",
    "    \n",
    "    inflacao_12meses_ipca = inflacao_ipca['ipca_acumulado'].tail(1).item()\n",
    "    inflacao_12meses_ipca = round((inflacao_12meses_ipca - 1) * 100, 2)\n",
    "    \n",
    "    # acumulando IGP-M\n",
    "    inflacao_igpm = inflacao_df[['Date', 'igp-m']]\n",
    "    inflacao_igpm = inflacao_igpm.assign(igpm_indice = False)\n",
    "    for i in inflacao_igpm.loc[1:, 'igpm_indice']:\n",
    "        inflacao_igpm['igpm_indice'] = (inflacao_igpm['igp-m'] / 100) + 1\n",
    "    \n",
    "    inflacao_igpm.iloc[0, -1] = 1\n",
    "    inflacao_igpm['igpm_acumulado'] = np.cumprod(inflacao_igpm['igpm_indice'])\n",
    "    \n",
    "    inflacao_12meses_igpm = inflacao_igpm['igpm_acumulado'].tail(1).item()\n",
    "    inflacao_12meses_igpm = round((inflacao_12meses_igpm - 1) * 100, 2)\n",
    "    \n",
    "    # acumulando inpc\n",
    "    inflacao_inpc = inflacao_df[['Date', 'inpc']]\n",
    "    inflacao_inpc = inflacao_inpc.assign(inpc_indice = False)\n",
    "    for i in inflacao_inpc.loc[1:, 'inpc_indice']:\n",
    "        inflacao_inpc['inpc_indice'] = (inflacao_inpc['inpc'] / 100) + 1\n",
    "    \n",
    "    inflacao_inpc.iloc[0, -1] = 1\n",
    "    inflacao_inpc['inpc_acumulado'] = np.cumprod(inflacao_inpc['inpc_indice'])\n",
    "    \n",
    "    inflacao_12meses_inpc = inflacao_inpc['inpc_acumulado'].tail(1).item()\n",
    "    inflacao_12meses_inpc = round((inflacao_12meses_inpc - 1) * 100, 2)\n",
    "    \n",
    "    \n",
    "    return inflacao_12meses_ipca, inflacao_12meses_igpm, inflacao_12meses_inpc"
   ]
  },
  {
   "cell_type": "code",
   "execution_count": 66,
   "id": "ac3b9314",
   "metadata": {},
   "outputs": [
    {
     "data": {
      "text/plain": [
       "5.85"
      ]
     },
     "execution_count": 66,
     "metadata": {},
     "output_type": "execute_result"
    }
   ],
   "source": [
    "inflacao_ipca_anual(inflacao)[0]"
   ]
  },
  {
   "cell_type": "code",
   "execution_count": 93,
   "id": "6cd986e2",
   "metadata": {},
   "outputs": [
    {
     "data": {
      "image/png": "[encoded data removed]",
      "text/plain": [
       "<Figure size 864x432 with 1 Axes>"
      ]
     },
     "metadata": {
      "needs_background": "light"
     },
     "output_type": "display_data"
    }
   ],
   "source": [
    "fig, ax = plt.subplots(figsize = (12, 6))\n",
    "\n",
    "sns.lineplot(data = inflacao, x = 'Date', y = 'ipca', color = 'green', label = 'IPCA')\n",
    "sns.lineplot(data = inflacao, x = 'Date', y = 'igp-m', color = 'red', label = 'IGP-M')\n",
    "sns.lineplot(data = inflacao, x = 'Date', y = 'inpc', color = 'blue', label = 'INPC')\n",
    "ax.set_title('Inflação', fontsize = 18)\n",
    "ax.spines['top'].set_visible(False)\n",
    "ax.spines['right'].set_visible(False)\n",
    "fig.tight_layout()\n",
    "plt.show();"
   ]
  },
  {
   "cell_type": "markdown",
   "id": "e3bef1d0",
   "metadata": {},
   "source": [
    "#### PIB"
   ]
  },
  {
   "cell_type": "code",
   "execution_count": 94,
   "id": "214833dc",
   "metadata": {},
   "outputs": [],
   "source": [
    "pib = sgs.get({'ibcbr' : 24363}, start = '2019-01-01')"
   ]
  },
  {
   "cell_type": "code",
   "execution_count": 95,
   "id": "c5695ba7",
   "metadata": {},
   "outputs": [],
   "source": [
    "pib = pib.reset_index()"
   ]
  },
  {
   "cell_type": "code",
   "execution_count": 96,
   "id": "a0057526",
   "metadata": {},
   "outputs": [
    {
     "data": {
      "text/html": [
       "<div>\n",
       "<style scoped>\n",
       "    .dataframe tbody tr th:only-of-type {\n",
       "        vertical-align: middle;\n",
       "    }\n",
       "\n",
       "    .dataframe tbody tr th {\n",
       "        vertical-align: top;\n",
       "    }\n",
       "\n",
       "    .dataframe thead th {\n",
       "        text-align: right;\n",
       "    }\n",
       "</style>\n",
       "<table border=\"1\" class=\"dataframe\">\n",
       "  <thead>\n",
       "    <tr style=\"text-align: right;\">\n",
       "      <th></th>\n",
       "      <th>Date</th>\n",
       "      <th>ibcbr</th>\n",
       "    </tr>\n",
       "  </thead>\n",
       "  <tbody>\n",
       "    <tr>\n",
       "      <th>38</th>\n",
       "      <td>2022-03-01</td>\n",
       "      <td>148.21</td>\n",
       "    </tr>\n",
       "    <tr>\n",
       "      <th>39</th>\n",
       "      <td>2022-04-01</td>\n",
       "      <td>142.10</td>\n",
       "    </tr>\n",
       "    <tr>\n",
       "      <th>40</th>\n",
       "      <td>2022-05-01</td>\n",
       "      <td>142.77</td>\n",
       "    </tr>\n",
       "    <tr>\n",
       "      <th>41</th>\n",
       "      <td>2022-06-01</td>\n",
       "      <td>141.93</td>\n",
       "    </tr>\n",
       "    <tr>\n",
       "      <th>42</th>\n",
       "      <td>2022-07-01</td>\n",
       "      <td>148.85</td>\n",
       "    </tr>\n",
       "    <tr>\n",
       "      <th>43</th>\n",
       "      <td>2022-08-01</td>\n",
       "      <td>149.01</td>\n",
       "    </tr>\n",
       "  </tbody>\n",
       "</table>\n",
       "</div>"
      ],
      "text/plain": [
       "         Date   ibcbr\n",
       "38 2022-03-01  148.21\n",
       "39 2022-04-01  142.10\n",
       "40 2022-05-01  142.77\n",
       "41 2022-06-01  141.93\n",
       "42 2022-07-01  148.85\n",
       "43 2022-08-01  149.01"
      ]
     },
     "execution_count": 96,
     "metadata": {},
     "output_type": "execute_result"
    }
   ],
   "source": [
    "pib.tail(6)"
   ]
  },
  {
   "cell_type": "markdown",
   "id": "d6dffc3d",
   "metadata": {},
   "source": [
    "#### Taxa de Desocupação (Desemprego) - PNADC"
   ]
  },
  {
   "cell_type": "code",
   "execution_count": 97,
   "id": "01cd96b7",
   "metadata": {},
   "outputs": [],
   "source": [
    "desemprego = sgs.get({'ibcbr' : 24369}, start = '2021-01-01')"
   ]
  },
  {
   "cell_type": "code",
   "execution_count": 98,
   "id": "1f58e216",
   "metadata": {},
   "outputs": [],
   "source": [
    "desemprego = desemprego.reset_index()"
   ]
  },
  {
   "cell_type": "code",
   "execution_count": 99,
   "id": "97c3690c",
   "metadata": {},
   "outputs": [
    {
     "data": {
      "text/html": [
       "<div>\n",
       "<style scoped>\n",
       "    .dataframe tbody tr th:only-of-type {\n",
       "        vertical-align: middle;\n",
       "    }\n",
       "\n",
       "    .dataframe tbody tr th {\n",
       "        vertical-align: top;\n",
       "    }\n",
       "\n",
       "    .dataframe thead th {\n",
       "        text-align: right;\n",
       "    }\n",
       "</style>\n",
       "<table border=\"1\" class=\"dataframe\">\n",
       "  <thead>\n",
       "    <tr style=\"text-align: right;\">\n",
       "      <th></th>\n",
       "      <th>Date</th>\n",
       "      <th>ibcbr</th>\n",
       "    </tr>\n",
       "  </thead>\n",
       "  <tbody>\n",
       "    <tr>\n",
       "      <th>15</th>\n",
       "      <td>2022-04-01</td>\n",
       "      <td>10.5</td>\n",
       "    </tr>\n",
       "    <tr>\n",
       "      <th>16</th>\n",
       "      <td>2022-05-01</td>\n",
       "      <td>9.8</td>\n",
       "    </tr>\n",
       "    <tr>\n",
       "      <th>17</th>\n",
       "      <td>2022-06-01</td>\n",
       "      <td>9.3</td>\n",
       "    </tr>\n",
       "    <tr>\n",
       "      <th>18</th>\n",
       "      <td>2022-07-01</td>\n",
       "      <td>9.1</td>\n",
       "    </tr>\n",
       "    <tr>\n",
       "      <th>19</th>\n",
       "      <td>2022-08-01</td>\n",
       "      <td>8.9</td>\n",
       "    </tr>\n",
       "    <tr>\n",
       "      <th>20</th>\n",
       "      <td>2022-09-01</td>\n",
       "      <td>8.7</td>\n",
       "    </tr>\n",
       "  </tbody>\n",
       "</table>\n",
       "</div>"
      ],
      "text/plain": [
       "         Date  ibcbr\n",
       "15 2022-04-01   10.5\n",
       "16 2022-05-01    9.8\n",
       "17 2022-06-01    9.3\n",
       "18 2022-07-01    9.1\n",
       "19 2022-08-01    8.9\n",
       "20 2022-09-01    8.7"
      ]
     },
     "execution_count": 99,
     "metadata": {},
     "output_type": "execute_result"
    }
   ],
   "source": [
    "desemprego.tail(6)"
   ]
  },
  {
   "cell_type": "markdown",
   "id": "cd6a2341",
   "metadata": {},
   "source": [
    "#### Moedas"
   ]
  },
  {
   "cell_type": "code",
   "execution_count": 157,
   "id": "5b772ffa",
   "metadata": {},
   "outputs": [],
   "source": [
    "# Um dia na frente por causa do python fazendo o range + 1\n",
    "hoje = datetime.date.today()\n",
    "inicio = hoje - datetime.timedelta(days = 7)\n",
    "fim = hoje + datetime.timedelta(days = 1)\n",
    "moedas_busca = 'USDBRL=X EURBRL=X GBPBRL=X'"
   ]
  },
  {
   "cell_type": "code",
   "execution_count": 172,
   "id": "56c14270",
   "metadata": {},
   "outputs": [],
   "source": [
    "# Pelo yfinance é mais recente\n",
    "def obtendo_cambio(moedas, data_inicio, data_final):\n",
    "    df = yf.download(moedas, start = data_inicio, end = data_final, progress = False)\n",
    "    df = df[['Adj Close']].reset_index()\n",
    "    df.columns = df.columns.droplevel(0)\n",
    "    df = df.rename(columns = {'' :'Data'})\n",
    "    dolar = round(df['USDBRL=X'].tail(1).item(), 2)\n",
    "    euro = round(df['EURBRL=X'].tail(1).item(), 2)\n",
    "    libra = round(df['GBPBRL=X'].tail(1).item(), 2)\n",
    "    return dolar, euro, libra"
   ]
  },
  {
   "cell_type": "code",
   "execution_count": 173,
   "id": "dedc4628",
   "metadata": {},
   "outputs": [
    {
     "data": {
      "text/plain": [
       "5.15"
      ]
     },
     "execution_count": 173,
     "metadata": {},
     "output_type": "execute_result"
    }
   ],
   "source": [
    "obtendo_cambio(moedas_busca, inicio, fim)[0]"
   ]
  },
  {
   "cell_type": "code",
   "execution_count": 100,
   "id": "00e1f2a6",
   "metadata": {},
   "outputs": [
    {
     "data": {
      "text/html": [
       "<div>\n",
       "<style scoped>\n",
       "    .dataframe tbody tr th:only-of-type {\n",
       "        vertical-align: middle;\n",
       "    }\n",
       "\n",
       "    .dataframe tbody tr th {\n",
       "        vertical-align: top;\n",
       "    }\n",
       "\n",
       "    .dataframe thead th {\n",
       "        text-align: right;\n",
       "    }\n",
       "</style>\n",
       "<table border=\"1\" class=\"dataframe\">\n",
       "  <thead>\n",
       "    <tr style=\"text-align: right;\">\n",
       "      <th></th>\n",
       "      <th>code</th>\n",
       "      <th>name</th>\n",
       "      <th>symbol</th>\n",
       "      <th>country_code</th>\n",
       "      <th>country_name</th>\n",
       "      <th>type</th>\n",
       "      <th>exclusion_date</th>\n",
       "    </tr>\n",
       "  </thead>\n",
       "  <tbody>\n",
       "    <tr>\n",
       "      <th>0</th>\n",
       "      <td>5</td>\n",
       "      <td>AFEGANE AFEGANIST</td>\n",
       "      <td>AFN</td>\n",
       "      <td>132</td>\n",
       "      <td>AFEGANISTAO                                   ...</td>\n",
       "      <td>A</td>\n",
       "      <td>NaT</td>\n",
       "    </tr>\n",
       "    <tr>\n",
       "      <th>1</th>\n",
       "      <td>785</td>\n",
       "      <td>RANDE/AFRICA SUL</td>\n",
       "      <td>ZAR</td>\n",
       "      <td>7560</td>\n",
       "      <td>AFRICA DO SUL                                 ...</td>\n",
       "      <td>A</td>\n",
       "      <td>NaT</td>\n",
       "    </tr>\n",
       "    <tr>\n",
       "      <th>2</th>\n",
       "      <td>490</td>\n",
       "      <td>LEK ALBANIA REP</td>\n",
       "      <td>ALL</td>\n",
       "      <td>175</td>\n",
       "      <td>ALBANIA, REPUBLICA DA                         ...</td>\n",
       "      <td>A</td>\n",
       "      <td>NaT</td>\n",
       "    </tr>\n",
       "    <tr>\n",
       "      <th>3</th>\n",
       "      <td>610</td>\n",
       "      <td>MARCO ALEMAO</td>\n",
       "      <td>DEM</td>\n",
       "      <td>230</td>\n",
       "      <td>ALEMANHA                                      ...</td>\n",
       "      <td>A</td>\n",
       "      <td>2002-01-02</td>\n",
       "    </tr>\n",
       "  </tbody>\n",
       "</table>\n",
       "</div>"
      ],
      "text/plain": [
       "   code               name symbol  country_code  \\\n",
       "0     5  AFEGANE AFEGANIST    AFN           132   \n",
       "1   785  RANDE/AFRICA SUL     ZAR          7560   \n",
       "2   490    LEK ALBANIA REP    ALL           175   \n",
       "3   610  MARCO ALEMAO         DEM           230   \n",
       "\n",
       "                                        country_name type exclusion_date  \n",
       "0  AFEGANISTAO                                   ...    A            NaT  \n",
       "1  AFRICA DO SUL                                 ...    A            NaT  \n",
       "2  ALBANIA, REPUBLICA DA                         ...    A            NaT  \n",
       "3  ALEMANHA                                      ...    A     2002-01-02  "
      ]
     },
     "execution_count": 100,
     "metadata": {},
     "output_type": "execute_result"
    }
   ],
   "source": [
    "df_moedas = currency.get_currency_list()\n",
    "df_moedas.head(4)"
   ]
  },
  {
   "cell_type": "code",
   "execution_count": 112,
   "id": "64aa32ca",
   "metadata": {},
   "outputs": [
    {
     "data": {
      "text/plain": [
       "datetime.date(2022, 11, 9)"
      ]
     },
     "execution_count": 112,
     "metadata": {},
     "output_type": "execute_result"
    }
   ],
   "source": [
    "hoje = datetime.date.today() + datetime.timedelta(days = 1)\n",
    "hoje"
   ]
  },
  {
   "cell_type": "code",
   "execution_count": null,
   "id": "0cd6f2de",
   "metadata": {},
   "outputs": [],
   "source": [
    "hoje = hoje + datetime.timedelta(days = 1)\n",
    "hoje"
   ]
  },
  {
   "cell_type": "code",
   "execution_count": 126,
   "id": "b5e00793",
   "metadata": {},
   "outputs": [],
   "source": [
    "moedas = currency.get(['USD', 'EUR', 'GBP'], start = '2022-01-01', end = '2022-11-09')"
   ]
  },
  {
   "cell_type": "code",
   "execution_count": 127,
   "id": "0810e9c3",
   "metadata": {},
   "outputs": [],
   "source": [
    "moedas = moedas.reset_index()"
   ]
  },
  {
   "cell_type": "code",
   "execution_count": 128,
   "id": "746cc2c3",
   "metadata": {},
   "outputs": [
    {
     "data": {
      "text/html": [
       "<div>\n",
       "<style scoped>\n",
       "    .dataframe tbody tr th:only-of-type {\n",
       "        vertical-align: middle;\n",
       "    }\n",
       "\n",
       "    .dataframe tbody tr th {\n",
       "        vertical-align: top;\n",
       "    }\n",
       "\n",
       "    .dataframe thead th {\n",
       "        text-align: right;\n",
       "    }\n",
       "</style>\n",
       "<table border=\"1\" class=\"dataframe\">\n",
       "  <thead>\n",
       "    <tr style=\"text-align: right;\">\n",
       "      <th></th>\n",
       "      <th>Date</th>\n",
       "      <th>EUR</th>\n",
       "      <th>GBP</th>\n",
       "      <th>USD</th>\n",
       "    </tr>\n",
       "  </thead>\n",
       "  <tbody>\n",
       "    <tr>\n",
       "      <th>0</th>\n",
       "      <td>2022-01-03</td>\n",
       "      <td>6.3595</td>\n",
       "      <td>7.5724</td>\n",
       "      <td>5.6309</td>\n",
       "    </tr>\n",
       "    <tr>\n",
       "      <th>1</th>\n",
       "      <td>2022-01-04</td>\n",
       "      <td>6.4219</td>\n",
       "      <td>7.6954</td>\n",
       "      <td>5.6776</td>\n",
       "    </tr>\n",
       "    <tr>\n",
       "      <th>2</th>\n",
       "      <td>2022-01-05</td>\n",
       "      <td>6.4210</td>\n",
       "      <td>7.6816</td>\n",
       "      <td>5.6628</td>\n",
       "    </tr>\n",
       "    <tr>\n",
       "      <th>3</th>\n",
       "      <td>2022-01-06</td>\n",
       "      <td>6.4435</td>\n",
       "      <td>7.7178</td>\n",
       "      <td>5.7042</td>\n",
       "    </tr>\n",
       "    <tr>\n",
       "      <th>4</th>\n",
       "      <td>2022-01-07</td>\n",
       "      <td>6.4415</td>\n",
       "      <td>7.7037</td>\n",
       "      <td>5.6753</td>\n",
       "    </tr>\n",
       "    <tr>\n",
       "      <th>...</th>\n",
       "      <td>...</td>\n",
       "      <td>...</td>\n",
       "      <td>...</td>\n",
       "      <td>...</td>\n",
       "    </tr>\n",
       "    <tr>\n",
       "      <th>208</th>\n",
       "      <td>2022-10-31</td>\n",
       "      <td>5.1976</td>\n",
       "      <td>6.0534</td>\n",
       "      <td>5.2570</td>\n",
       "    </tr>\n",
       "    <tr>\n",
       "      <th>209</th>\n",
       "      <td>2022-11-01</td>\n",
       "      <td>5.0851</td>\n",
       "      <td>5.9029</td>\n",
       "      <td>5.1500</td>\n",
       "    </tr>\n",
       "    <tr>\n",
       "      <th>210</th>\n",
       "      <td>2022-11-03</td>\n",
       "      <td>5.0122</td>\n",
       "      <td>5.7434</td>\n",
       "      <td>5.1349</td>\n",
       "    </tr>\n",
       "    <tr>\n",
       "      <th>211</th>\n",
       "      <td>2022-11-04</td>\n",
       "      <td>4.9841</td>\n",
       "      <td>5.6801</td>\n",
       "      <td>5.0360</td>\n",
       "    </tr>\n",
       "    <tr>\n",
       "      <th>212</th>\n",
       "      <td>2022-11-07</td>\n",
       "      <td>5.0901</td>\n",
       "      <td>5.8356</td>\n",
       "      <td>5.0886</td>\n",
       "    </tr>\n",
       "  </tbody>\n",
       "</table>\n",
       "<p>213 rows × 4 columns</p>\n",
       "</div>"
      ],
      "text/plain": [
       "          Date     EUR     GBP     USD\n",
       "0   2022-01-03  6.3595  7.5724  5.6309\n",
       "1   2022-01-04  6.4219  7.6954  5.6776\n",
       "2   2022-01-05  6.4210  7.6816  5.6628\n",
       "3   2022-01-06  6.4435  7.7178  5.7042\n",
       "4   2022-01-07  6.4415  7.7037  5.6753\n",
       "..         ...     ...     ...     ...\n",
       "208 2022-10-31  5.1976  6.0534  5.2570\n",
       "209 2022-11-01  5.0851  5.9029  5.1500\n",
       "210 2022-11-03  5.0122  5.7434  5.1349\n",
       "211 2022-11-04  4.9841  5.6801  5.0360\n",
       "212 2022-11-07  5.0901  5.8356  5.0886\n",
       "\n",
       "[213 rows x 4 columns]"
      ]
     },
     "execution_count": 128,
     "metadata": {},
     "output_type": "execute_result"
    }
   ],
   "source": [
    "moedas"
   ]
  },
  {
   "cell_type": "code",
   "execution_count": 116,
   "id": "b631c21d",
   "metadata": {},
   "outputs": [
    {
     "data": {
      "text/plain": [
       "5.09"
      ]
     },
     "execution_count": 116,
     "metadata": {},
     "output_type": "execute_result"
    }
   ],
   "source": [
    "round(moedas['USD'].tail(1), 2).item()"
   ]
  },
  {
   "cell_type": "code",
   "execution_count": 117,
   "id": "370df5d0",
   "metadata": {},
   "outputs": [
    {
     "data": {
      "image/png": "[encoded data removed]",
      "text/plain": [
       "<Figure size 864x432 with 1 Axes>"
      ]
     },
     "metadata": {
      "needs_background": "light"
     },
     "output_type": "display_data"
    }
   ],
   "source": [
    "fig, ax = plt.subplots(figsize = (12, 6))\n",
    "\n",
    "sns.lineplot(data = moedas, x = 'Date', y = 'USD', color = 'green', label = 'Dólar')\n",
    "sns.lineplot(data = moedas, x = 'Date', y = 'EUR', color = 'red', label = 'Euro')\n",
    "sns.lineplot(data = moedas, x = 'Date', y = 'GBP', color = 'cyan', label = 'Libra Esterlina')\n",
    "ax.set_title('Câmbio', fontsize = 18)\n",
    "ax.spines['top'].set_visible(False)\n",
    "ax.spines['right'].set_visible(False)\n",
    "fig.tight_layout()\n",
    "plt.show();"
   ]
  },
  {
   "cell_type": "markdown",
   "id": "1662315d",
   "metadata": {},
   "source": [
    "#### Expectativas\n",
    "\n",
    "Expec Describe\n",
    "EntitySets:\n",
    "  - ExpectativasMercadoTop5Anuais\n",
    "  - ExpectativasMercadoSelic\n",
    "  - ExpectativasMercadoTop5Selic\n",
    "  - ExpectativasMercadoTrimestrais\n",
    "  - ExpectativasMercadoAnuais\n",
    "\n",
    "ExpectativasMercadoTrimestrais:\n",
    "- PIB Total\n",
    "- PIB Agropecuária\n",
    "- PIB Indústria\n",
    "- PIB Serviços\n",
    "- Taxa de desocupação\n",
    "- IPCA\n",
    "- Câmbio\n",
    "\n",
    "ExpectativasMercadoTop5Mensais"
   ]
  },
  {
   "cell_type": "code",
   "execution_count": 4,
   "id": "16614820",
   "metadata": {},
   "outputs": [],
   "source": [
    "expec = Expectativas()\n",
    "#expec.describe()\n",
    "\n",
    "# Utilizarei\n",
    "# ExpectativasMercadoTrimestrais\n",
    "# ExpectativasMercadoAnuais\n",
    "# ExpectativasMercadoTop5Anuais TALVEZ"
   ]
  },
  {
   "cell_type": "code",
   "execution_count": 5,
   "id": "94611ca6",
   "metadata": {},
   "outputs": [
    {
     "name": "stdout",
     "output_type": "stream",
     "text": [
      "EntitySets:\n",
      "  ExpectativasMercadoTop5Anuais\n",
      "  ExpectativasMercadoInstituicoes\n",
      "  ExpectativaMercadoMensais\n",
      "  ExpectativasMercadoInflacao12Meses\n",
      "  ExpectativasMercadoSelic\n",
      "  ExpectativasMercadoTop5Selic\n",
      "  ExpectativasMercadoTop5Mensais\n",
      "  ExpectativasMercadoTrimestrais\n",
      "  ExpectativasMercadoAnuais\n"
     ]
    }
   ],
   "source": [
    "expec.describe()"
   ]
  },
  {
   "cell_type": "code",
   "execution_count": 128,
   "id": "d7d7be97",
   "metadata": {},
   "outputs": [],
   "source": [
    "ep = expec.get_endpoint('ExpectativasMercadoAnuais')\n",
    "df = ep.query().filter(\n",
    "                       ep.Data > '2022-08-01',\n",
    "                       ep.numeroRespondentes >= 20).select(ep.Data, ep.DataReferencia,\n",
    "                                                           ep.Media, ep.Mediana, ep.Indicador).collect()"
   ]
  },
  {
   "cell_type": "code",
   "execution_count": 130,
   "id": "5982d9b1",
   "metadata": {},
   "outputs": [
    {
     "data": {
      "text/plain": [
       "IPCA                                               660\n",
       "Selic                                              660\n",
       "Câmbio                                             660\n",
       "PIB Total                                          638\n",
       "IGP-M                                              615\n",
       "IPCA Administrados                                 534\n",
       "IPCA Livres                                        529\n",
       "IPCA Serviços                                      518\n",
       "IPCA Alimentação no domicílio                      511\n",
       "IPCA Bens industrializados                         509\n",
       "Taxa de desocupação                                489\n",
       "Balança comercial                                  372\n",
       "PIB Agropecuária                                   272\n",
       "PIB Serviços                                       265\n",
       "PIB Indústria                                      264\n",
       "Dívida bruta do governo geral                      230\n",
       "Resultado primário                                 225\n",
       "Investimento direto no país                        155\n",
       "Conta corrente                                     142\n",
       "PIB Formação Bruta de Capital Fixo                 132\n",
       "PIB Exportação de bens e serviços                  132\n",
       "PIB Importação de bens e serviços                  132\n",
       "PIB Despesa de consumo da administração pública    132\n",
       "PIB Despesa de consumo das famílias                132\n",
       "Resultado nominal                                   78\n",
       "Dívida líquida do setor público                     72\n",
       "Name: Indicador, dtype: int64"
      ]
     },
     "execution_count": 130,
     "metadata": {},
     "output_type": "execute_result"
    }
   ],
   "source": [
    "df.Indicador.value_counts()"
   ]
  },
  {
   "cell_type": "markdown",
   "id": "d13f4e5e",
   "metadata": {},
   "source": [
    "##### Funcoes auxiliares"
   ]
  },
  {
   "cell_type": "code",
   "execution_count": 33,
   "id": "206f3b3a",
   "metadata": {},
   "outputs": [],
   "source": [
    "def obtendo_expectativas(indicador, entidade, respondentes):\n",
    "    \n",
    "    # Filtrando para previsoes dos ultimos 3 meses\n",
    "    tres_meses = datetime.date.today() - datetime.timedelta(days = 90)\n",
    "    tres_meses = tres_meses.strftime('%Y-%m-%d')\n",
    "    \n",
    "    # Obtendo dados\n",
    "    ep = expec.get_endpoint(entidade)\n",
    "    df_ep = ep.query().filter(ep.Indicador == indicador,\n",
    "                              ep.Data >= tres_meses,\n",
    "                              ep.numeroRespondentes >= respondentes).select(ep.Data, ep.DataReferencia,\n",
    "                                                           ep.Media, ep.Mediana).collect()\n",
    "\n",
    "    return df_ep"
   ]
  },
  {
   "cell_type": "code",
   "execution_count": 34,
   "id": "d0481c95",
   "metadata": {},
   "outputs": [],
   "source": [
    "def unindo_prev(x):\n",
    "    \n",
    "    # Selecionando trimestres\n",
    "    trimestres = ['4/2022', '1/2023', '2/2023', '3/2023', '4/2023']\n",
    "    \n",
    "    # Calculando as metricas\n",
    "    dicio_metricas = {}\n",
    "    df_aux = x.copy()\n",
    "    for trimestre in trimestres:\n",
    "        df_aux = x[(x['DataReferencia'] == trimestre)]\n",
    "        dicio_metricas['media_{}'.format(trimestre)] = df_aux['Media'].mean()\n",
    "        dicio_metricas['mediana_{}'.format(trimestre)] = df_aux['Mediana'].mean()\n",
    "    \n",
    "    # Colocando em um dataframe\n",
    "    df = pd.DataFrame(list(dicio_metricas.items()))\n",
    "    df.columns = ['metrica_trimestre', 'valor']\n",
    "    df[['metrica', 'trimestres']] = df['metrica_trimestre'].str.split('_', n = 1, expand = True)\n",
    "    df = df.drop(columns = 'metrica_trimestre')\n",
    "    df = df[['trimestres', 'metrica', 'valor']]\n",
    "    df['metrica'] = np.where(df['metrica'] == 'media', 'Média', 'Mediana')\n",
    "    \n",
    "    return df"
   ]
  },
  {
   "cell_type": "markdown",
   "id": "b9a01b68",
   "metadata": {},
   "source": [
    "### Obtendo Expectativas do PIB"
   ]
  },
  {
   "cell_type": "markdown",
   "id": "c75ba423",
   "metadata": {},
   "source": [
    "#### Trimestrais"
   ]
  },
  {
   "cell_type": "code",
   "execution_count": 200,
   "id": "7d5210ff",
   "metadata": {},
   "outputs": [],
   "source": [
    "pib_total = obtendo_expectativas('PIB Total', 'ExpectativasMercadoTrimestrais', 50)\n",
    "df_previsoes_pib = unindo_prev(pib_total)"
   ]
  },
  {
   "cell_type": "code",
   "execution_count": 202,
   "id": "aae535a7",
   "metadata": {},
   "outputs": [
    {
     "data": {
      "image/png": "[encoded data removed]",
      "text/plain": [
       "<Figure size 1008x432 with 1 Axes>"
      ]
     },
     "metadata": {
      "needs_background": "light"
     },
     "output_type": "display_data"
    }
   ],
   "source": [
    "fig, ax = plt.subplots(figsize = (14, 6))\n",
    "\n",
    "sns.barplot(data = df_previsoes_pib, x = 'trimestres', y = 'valor', hue = 'metrica', palette = 'cividis')\n",
    "ax.set_title('Expectativa para o PIB', fontsize = 16)\n",
    "handles, labels = ax.get_legend_handles_labels()\n",
    "ax.set_xlabel('Trimestres')\n",
    "ax.set_ylabel('%')\n",
    "ax.legend(title = 'Medidas', handles = handles, bbox_to_anchor = [1.1, 0.7, 0, 0])\n",
    "ax.spines['top'].set_visible(False)\n",
    "ax.spines['right'].set_visible(False)\n",
    "\n",
    "for container in ax.containers:\n",
    "    ax.bar_label(container, fmt = '%.2f%%', padding = 4)\n",
    "\n",
    "fig.tight_layout()\n",
    "plt.show();"
   ]
  },
  {
   "cell_type": "markdown",
   "id": "4a187af7",
   "metadata": {},
   "source": [
    "#### Anual"
   ]
  },
  {
   "cell_type": "code",
   "execution_count": 147,
   "id": "e07236e4",
   "metadata": {},
   "outputs": [],
   "source": [
    "pib_total = obtendo_expectativas('PIB Total', 'ExpectativasMercadoAnuais', 50)"
   ]
  },
  {
   "cell_type": "code",
   "execution_count": 151,
   "id": "c5f3cbc7",
   "metadata": {},
   "outputs": [
    {
     "data": {
      "text/plain": [
       "2.49543625"
      ]
     },
     "execution_count": 151,
     "metadata": {},
     "output_type": "execute_result"
    }
   ],
   "source": [
    "pib_total[pib_total['DataReferencia'] == '2022']['Media'].mean()"
   ]
  },
  {
   "cell_type": "markdown",
   "id": "a9ba9bd4",
   "metadata": {},
   "source": [
    "#### Setores - Agropecuária, Industria e Serviços"
   ]
  },
  {
   "cell_type": "code",
   "execution_count": 192,
   "id": "95cb6cef",
   "metadata": {},
   "outputs": [],
   "source": [
    "pib_servicos = obtendo_expectativas('PIB Agropecuária', 'ExpectativasMercadoAnuais', 30)"
   ]
  },
  {
   "cell_type": "code",
   "execution_count": 193,
   "id": "dce09e8e",
   "metadata": {},
   "outputs": [
    {
     "data": {
      "text/plain": [
       "0.7417450980392155"
      ]
     },
     "execution_count": 193,
     "metadata": {},
     "output_type": "execute_result"
    }
   ],
   "source": [
    "pib_servicos[pib_servicos['DataReferencia'] == '2022']['Media'].mean()"
   ]
  },
  {
   "cell_type": "markdown",
   "id": "a442d014",
   "metadata": {},
   "source": [
    "### Obtendo dados de expectativa para o IPCA"
   ]
  },
  {
   "cell_type": "code",
   "execution_count": 4,
   "id": "4fc26361",
   "metadata": {},
   "outputs": [],
   "source": [
    "ep = expec.get_endpoint('ExpectativasMercadoTrimestrais')\n",
    "df = ep.query().filter(ep.Data > '2022-08-01', ep.numeroRespondentes >= 30).select().collect()"
   ]
  },
  {
   "cell_type": "code",
   "execution_count": 335,
   "id": "8fd30eae",
   "metadata": {},
   "outputs": [
    {
     "data": {
      "text/plain": [
       "IPCA Administrados               475\n",
       "IPCA Livres                      457\n",
       "IPCA Serviços                    451\n",
       "IPCA Bens industrializados       450\n",
       "IPCA Alimentação no domicílio    450\n",
       "Name: Indicador, dtype: int64"
      ]
     },
     "execution_count": 335,
     "metadata": {},
     "output_type": "execute_result"
    }
   ],
   "source": [
    "df.Indicador.value_counts()"
   ]
  },
  {
   "cell_type": "code",
   "execution_count": 22,
   "id": "697caf78",
   "metadata": {},
   "outputs": [],
   "source": [
    "def obtendo_expectativas_varios(entidade, respondentes):\n",
    "    \n",
    "    # Filtrando para previsoes dos ultimos 3 meses\n",
    "    tres_meses = datetime.date.today() - datetime.timedelta(days = 90)\n",
    "    tres_meses = tres_meses.strftime('%Y-%m-%d')\n",
    "    \n",
    "    # Obtendo dados\n",
    "    ep = expec.get_endpoint(entidade)\n",
    "    df_ep = ep.query().filter(ep.Data >= tres_meses,\n",
    "                              ep.numeroRespondentes >= respondentes).select().collect()\n",
    "\n",
    "    return df_ep"
   ]
  },
  {
   "cell_type": "code",
   "execution_count": 29,
   "id": "dd86b3d6",
   "metadata": {},
   "outputs": [],
   "source": [
    "def ipca_grupos_func(x):\n",
    "    \n",
    "    indicadores = ['IPCA Administrados', 'IPCA Livres', 'IPCA Alimentação no domicílio',\n",
    "                   'IPCA Serviços', 'IPCA Bens industrializados']\n",
    "\n",
    "    trimestres = ['4/2022', '1/2023', '2/2023', '3/2023', '4/2023']\n",
    "    \n",
    "    x = x[x['Indicador'].isin(indicadores)]\n",
    "    x = x[x['DataReferencia'].isin(trimestres)]\n",
    "    x_media = x.groupby(['Indicador', 'DataReferencia'], as_index = False)['Media'].mean()\n",
    "    x_media['Indicador'] = np.where(x_media['Indicador'] == 'IPCA Bens industrializados', 'IPCA Bens Industrializados',\n",
    "                                   np.where(x_media['Indicador'] == 'IPCA Alimentação no domicílio','IPCA Alimentação: Domicílio',\n",
    "                                           x_media['Indicador']))\n",
    "    return x_media"
   ]
  },
  {
   "cell_type": "code",
   "execution_count": 30,
   "id": "33af5971",
   "metadata": {},
   "outputs": [],
   "source": [
    "entidade_trimestrais = 'ExpectativasMercadoTrimestrais'\n",
    "ipca_grupos = obtendo_expectativas_varios(entidade_trimestrais, 30)\n",
    "df_ipca_grupos = ipca_grupos_func(ipca_grupos)"
   ]
  },
  {
   "cell_type": "code",
   "execution_count": null,
   "id": "95f80b5f",
   "metadata": {},
   "outputs": [],
   "source": [
    "def inflacao_junto(x):\n",
    "    \n",
    "    ep = expec.get_endpoint('ExpectativasMercadoTrimestrais')\n",
    "    df = ep.query().filter(ep.Data > '2022-08-01', ep.numeroRespondentes >= 30).select().collect()\n",
    "    \n",
    "    # Calculando as metricas\n",
    "    dicio_metricas = {}\n",
    "    df_aux = x.copy()\n",
    "    for trimestre in trimestres:\n",
    "        df_aux = x[(x['DataReferencia'] == trimestre)]\n",
    "        dicio_metricas['media_{}'.format(trimestre)] = df_aux['Media'].mean()\n",
    "        dicio_metricas['mediana_{}'.format(trimestre)] = df_aux['Mediana'].mean()\n",
    "    \n",
    "    # Colocando em um dataframe\n",
    "    df = pd.DataFrame(list(dicio_metricas.items()))\n",
    "    df.columns = ['metrica_trimestre', 'valor']\n",
    "    df[['metrica', 'trimestres']] = df['metrica_trimestre'].str.split('_', n = 1, expand = True)\n",
    "    df = df.drop(columns = 'metrica_trimestre')\n",
    "    df = df[['trimestres', 'metrica', 'valor']]\n",
    "    df['metrica'] = np.where(df['metrica'] == 'media', 'Média', 'Mediana')\n",
    "    \n",
    "    return df"
   ]
  },
  {
   "cell_type": "code",
   "execution_count": 4,
   "id": "3891fd82",
   "metadata": {},
   "outputs": [],
   "source": [
    "def obtendo_expectativas_varios(entidade, respondentes):\n",
    "    \n",
    "    # Filtrando para previsoes dos ultimos 3 meses\n",
    "    tres_meses = datetime.date.today() - datetime.timedelta(days = 90)\n",
    "    tres_meses = tres_meses.strftime('%Y-%m-%d')\n",
    "    \n",
    "    # Obtendo dados\n",
    "    ep = expec.get_endpoint(entidade)\n",
    "    df_ep = ep.query().filter(ep.Data >= tres_meses,\n",
    "                              ep.numeroRespondentes >= respondentes).select().collect()\n",
    "\n",
    "    return df_ep"
   ]
  },
  {
   "cell_type": "code",
   "execution_count": 56,
   "id": "d79ba4ae",
   "metadata": {},
   "outputs": [],
   "source": [
    "def ipca_gp_ano_func(x):\n",
    "    \n",
    "    indicadores = ['IPCA Administrados', 'IPCA Livres', 'IPCA Alimentação no domicílio',\n",
    "                   'IPCA Serviços', 'IPCA Bens industrializados']\n",
    "    \n",
    "    anos = ['2022', '2023']\n",
    "\n",
    "    x = x[x['Indicador'].isin(indicadores)]\n",
    "    x = x[x['DataReferencia'].isin(anos)]\n",
    "    x_media = x.groupby(['Indicador', 'DataReferencia'], as_index = False)['Media'].mean()\n",
    "    x_media['Indicador'] = np.where(x_media['Indicador'] == 'IPCA Bens industrializados', 'IPCA Bens Industrializados',\n",
    "                                   np.where(x_media['Indicador'] == 'IPCA Alimentação no domicílio','IPCA Alimentação: Domicílio',\n",
    "                                           x_media['Indicador']))\n",
    "    return x_media"
   ]
  },
  {
   "cell_type": "code",
   "execution_count": 208,
   "id": "ce9c4a65",
   "metadata": {},
   "outputs": [
    {
     "data": {
      "image/png": "[encoded data removed]",
      "text/plain": [
       "<Figure size 1008x432 with 1 Axes>"
      ]
     },
     "metadata": {
      "needs_background": "light"
     },
     "output_type": "display_data"
    }
   ],
   "source": [
    "fig, ax = plt.subplots(figsize = (14, 6))\n",
    "\n",
    "sns.barplot(data = df_previsoes_ipca, x = 'trimestres', y = 'valor', hue = 'metrica', palette = 'cividis')\n",
    "ax.set_title('Expectativa para o IPCA', fontsize = 16)\n",
    "handles, labels = ax.get_legend_handles_labels()\n",
    "labels = ['Média', 'Mediana']\n",
    "ax.set_xlabel('Trimestres')\n",
    "ax.set_ylabel('%')\n",
    "ax.legend(title = 'Medidas', handles = handles, labels = labels, bbox_to_anchor = [1.1, 0.7, 0, 0])\n",
    "ax.spines['top'].set_visible(False)\n",
    "ax.spines['right'].set_visible(False)\n",
    "\n",
    "for container in ax.containers:\n",
    "    ax.bar_label(container, fmt = '%.2f%%', padding = 4)\n",
    "\n",
    "fig.tight_layout()\n",
    "plt.show();"
   ]
  },
  {
   "cell_type": "markdown",
   "id": "d36c140b",
   "metadata": {},
   "source": [
    "### Obtendo expectativas para os Juros"
   ]
  },
  {
   "cell_type": "code",
   "execution_count": 4,
   "id": "2307b29c",
   "metadata": {},
   "outputs": [],
   "source": [
    "def obtendo_expectativas(indicador, entidade, respondentes):\n",
    "    \n",
    "    # Filtrando para previsoes dos ultimos 3 meses\n",
    "    tres_meses = datetime.date.today() - datetime.timedelta(days = 90)\n",
    "    tres_meses = tres_meses.strftime('%Y-%m-%d')\n",
    "    \n",
    "    # Obtendo dados\n",
    "    ep = expec.get_endpoint(entidade)\n",
    "    df_ep = ep.query().filter(ep.Indicador == indicador,\n",
    "                              ep.Data >= tres_meses,\n",
    "                              ep.numeroRespondentes >= respondentes).select(ep.Data, ep.DataReferencia,\n",
    "                                                           ep.Media, ep.Mediana, ep.Minimo, ep.Maximo,\n",
    "                                                           ep.Indicador, ep.IndicadorDetalhe).collect()\n",
    "\n",
    "    return df_ep"
   ]
  },
  {
   "cell_type": "code",
   "execution_count": 142,
   "id": "cfaad604",
   "metadata": {},
   "outputs": [],
   "source": [
    "# ExpectativasMercadoAnuais tem SELIC\n",
    "entidade = 'ExpectativasMercadoAnuais'\n",
    "df = obtendo_expectativas('Taxa de desocupação', entidade, 30)"
   ]
  },
  {
   "cell_type": "code",
   "execution_count": 143,
   "id": "f813f993",
   "metadata": {},
   "outputs": [
    {
     "data": {
      "text/html": [
       "<div>\n",
       "<style scoped>\n",
       "    .dataframe tbody tr th:only-of-type {\n",
       "        vertical-align: middle;\n",
       "    }\n",
       "\n",
       "    .dataframe tbody tr th {\n",
       "        vertical-align: top;\n",
       "    }\n",
       "\n",
       "    .dataframe thead th {\n",
       "        text-align: right;\n",
       "    }\n",
       "</style>\n",
       "<table border=\"1\" class=\"dataframe\">\n",
       "  <thead>\n",
       "    <tr style=\"text-align: right;\">\n",
       "      <th></th>\n",
       "      <th>Data</th>\n",
       "      <th>DataReferencia</th>\n",
       "      <th>Media</th>\n",
       "      <th>Mediana</th>\n",
       "      <th>Minimo</th>\n",
       "      <th>Maximo</th>\n",
       "    </tr>\n",
       "  </thead>\n",
       "  <tbody>\n",
       "    <tr>\n",
       "      <th>0</th>\n",
       "      <td>2022-08-12</td>\n",
       "      <td>2022</td>\n",
       "      <td>8.9550</td>\n",
       "      <td>9.000</td>\n",
       "      <td>6.20</td>\n",
       "      <td>10.70</td>\n",
       "    </tr>\n",
       "    <tr>\n",
       "      <th>1</th>\n",
       "      <td>2022-08-12</td>\n",
       "      <td>2023</td>\n",
       "      <td>9.4392</td>\n",
       "      <td>9.590</td>\n",
       "      <td>7.00</td>\n",
       "      <td>11.60</td>\n",
       "    </tr>\n",
       "    <tr>\n",
       "      <th>2</th>\n",
       "      <td>2022-08-12</td>\n",
       "      <td>2024</td>\n",
       "      <td>9.2886</td>\n",
       "      <td>9.500</td>\n",
       "      <td>7.00</td>\n",
       "      <td>11.50</td>\n",
       "    </tr>\n",
       "    <tr>\n",
       "      <th>3</th>\n",
       "      <td>2022-08-12</td>\n",
       "      <td>2025</td>\n",
       "      <td>8.9268</td>\n",
       "      <td>9.000</td>\n",
       "      <td>6.50</td>\n",
       "      <td>11.00</td>\n",
       "    </tr>\n",
       "    <tr>\n",
       "      <th>4</th>\n",
       "      <td>2022-08-12</td>\n",
       "      <td>2026</td>\n",
       "      <td>8.7249</td>\n",
       "      <td>9.000</td>\n",
       "      <td>6.00</td>\n",
       "      <td>11.00</td>\n",
       "    </tr>\n",
       "    <tr>\n",
       "      <th>...</th>\n",
       "      <td>...</td>\n",
       "      <td>...</td>\n",
       "      <td>...</td>\n",
       "      <td>...</td>\n",
       "      <td>...</td>\n",
       "      <td>...</td>\n",
       "    </tr>\n",
       "    <tr>\n",
       "      <th>329</th>\n",
       "      <td>2022-11-04</td>\n",
       "      <td>2022</td>\n",
       "      <td>8.4365</td>\n",
       "      <td>8.400</td>\n",
       "      <td>7.50</td>\n",
       "      <td>9.10</td>\n",
       "    </tr>\n",
       "    <tr>\n",
       "      <th>330</th>\n",
       "      <td>2022-11-04</td>\n",
       "      <td>2023</td>\n",
       "      <td>8.9988</td>\n",
       "      <td>8.920</td>\n",
       "      <td>7.60</td>\n",
       "      <td>11.23</td>\n",
       "    </tr>\n",
       "    <tr>\n",
       "      <th>331</th>\n",
       "      <td>2022-11-04</td>\n",
       "      <td>2024</td>\n",
       "      <td>8.9451</td>\n",
       "      <td>8.900</td>\n",
       "      <td>7.50</td>\n",
       "      <td>11.50</td>\n",
       "    </tr>\n",
       "    <tr>\n",
       "      <th>332</th>\n",
       "      <td>2022-11-04</td>\n",
       "      <td>2025</td>\n",
       "      <td>8.7025</td>\n",
       "      <td>8.600</td>\n",
       "      <td>7.41</td>\n",
       "      <td>10.50</td>\n",
       "    </tr>\n",
       "    <tr>\n",
       "      <th>333</th>\n",
       "      <td>2022-11-04</td>\n",
       "      <td>2026</td>\n",
       "      <td>8.5720</td>\n",
       "      <td>8.461</td>\n",
       "      <td>7.00</td>\n",
       "      <td>10.50</td>\n",
       "    </tr>\n",
       "  </tbody>\n",
       "</table>\n",
       "<p>334 rows × 6 columns</p>\n",
       "</div>"
      ],
      "text/plain": [
       "           Data DataReferencia   Media  Mediana  Minimo  Maximo\n",
       "0    2022-08-12           2022  8.9550    9.000    6.20   10.70\n",
       "1    2022-08-12           2023  9.4392    9.590    7.00   11.60\n",
       "2    2022-08-12           2024  9.2886    9.500    7.00   11.50\n",
       "3    2022-08-12           2025  8.9268    9.000    6.50   11.00\n",
       "4    2022-08-12           2026  8.7249    9.000    6.00   11.00\n",
       "..          ...            ...     ...      ...     ...     ...\n",
       "329  2022-11-04           2022  8.4365    8.400    7.50    9.10\n",
       "330  2022-11-04           2023  8.9988    8.920    7.60   11.23\n",
       "331  2022-11-04           2024  8.9451    8.900    7.50   11.50\n",
       "332  2022-11-04           2025  8.7025    8.600    7.41   10.50\n",
       "333  2022-11-04           2026  8.5720    8.461    7.00   10.50\n",
       "\n",
       "[334 rows x 6 columns]"
      ]
     },
     "execution_count": 143,
     "metadata": {},
     "output_type": "execute_result"
    }
   ],
   "source": [
    "df"
   ]
  },
  {
   "cell_type": "code",
   "execution_count": 144,
   "id": "6d23d74f",
   "metadata": {},
   "outputs": [],
   "source": [
    "def unindo_selic(x):\n",
    "    \n",
    "    # Selecionando trimestres\n",
    "    anos = ['2022', '2023']\n",
    "    \n",
    "    x = x[x['DataReferencia'].isin(anos)]\n",
    "    \n",
    "    # Calculando as metricas\n",
    "    dicio_metricas = {}\n",
    "    df_aux = x.copy()\n",
    "    for ano in df_aux['DataReferencia']:\n",
    "        dicio_metricas['media_{}'.format(ano)] = df_aux['Media'].mean()\n",
    "        dicio_metricas['mediana_{}'.format(ano)] = df_aux['Mediana'].mean()\n",
    "        dicio_metricas['maximo_{}'.format(ano)] = df_aux['Maximo'].mean()\n",
    "        dicio_metricas['minimo_{}'.format(ano)] = df_aux['Minimo'].mean()\n",
    "    \n",
    "    # Colocando em um dataframe\n",
    "    df = pd.DataFrame(list(dicio_metricas.items()))\n",
    "    df.columns = ['metrica_trimestre', 'valor']\n",
    "    df[['metrica', 'anos']] = df['metrica_trimestre'].str.split('_', n = 1, expand = True)\n",
    "    df = df.drop(columns = 'metrica_trimestre')\n",
    "    df = df[['anos', 'metrica', 'valor']]\n",
    "    \n",
    "    df['metrica'] = np.where(df['metrica'] == 'maximo', 'Máximo',\n",
    "                              np.where(df['metrica'] == 'media', 'Média',\n",
    "                                       np.where(df['metrica'] == 'minimo', 'Mínimo', 'Mediana')))\n",
    "    \n",
    "    return df"
   ]
  },
  {
   "cell_type": "code",
   "execution_count": 145,
   "id": "59c310c9",
   "metadata": {
    "scrolled": true
   },
   "outputs": [
    {
     "data": {
      "text/html": [
       "<div>\n",
       "<style scoped>\n",
       "    .dataframe tbody tr th:only-of-type {\n",
       "        vertical-align: middle;\n",
       "    }\n",
       "\n",
       "    .dataframe tbody tr th {\n",
       "        vertical-align: top;\n",
       "    }\n",
       "\n",
       "    .dataframe thead th {\n",
       "        text-align: right;\n",
       "    }\n",
       "</style>\n",
       "<table border=\"1\" class=\"dataframe\">\n",
       "  <thead>\n",
       "    <tr style=\"text-align: right;\">\n",
       "      <th></th>\n",
       "      <th>anos</th>\n",
       "      <th>metrica</th>\n",
       "      <th>valor</th>\n",
       "    </tr>\n",
       "  </thead>\n",
       "  <tbody>\n",
       "    <tr>\n",
       "      <th>0</th>\n",
       "      <td>2022</td>\n",
       "      <td>Média</td>\n",
       "      <td>8.914928</td>\n",
       "    </tr>\n",
       "    <tr>\n",
       "      <th>1</th>\n",
       "      <td>2022</td>\n",
       "      <td>Mediana</td>\n",
       "      <td>8.961242</td>\n",
       "    </tr>\n",
       "    <tr>\n",
       "      <th>2</th>\n",
       "      <td>2022</td>\n",
       "      <td>Máximo</td>\n",
       "      <td>10.815489</td>\n",
       "    </tr>\n",
       "    <tr>\n",
       "      <th>3</th>\n",
       "      <td>2022</td>\n",
       "      <td>Mínimo</td>\n",
       "      <td>7.027517</td>\n",
       "    </tr>\n",
       "    <tr>\n",
       "      <th>4</th>\n",
       "      <td>2023</td>\n",
       "      <td>Média</td>\n",
       "      <td>8.914928</td>\n",
       "    </tr>\n",
       "    <tr>\n",
       "      <th>5</th>\n",
       "      <td>2023</td>\n",
       "      <td>Mediana</td>\n",
       "      <td>8.961242</td>\n",
       "    </tr>\n",
       "    <tr>\n",
       "      <th>6</th>\n",
       "      <td>2023</td>\n",
       "      <td>Máximo</td>\n",
       "      <td>10.815489</td>\n",
       "    </tr>\n",
       "    <tr>\n",
       "      <th>7</th>\n",
       "      <td>2023</td>\n",
       "      <td>Mínimo</td>\n",
       "      <td>7.027517</td>\n",
       "    </tr>\n",
       "  </tbody>\n",
       "</table>\n",
       "</div>"
      ],
      "text/plain": [
       "   anos  metrica      valor\n",
       "0  2022    Média   8.914928\n",
       "1  2022  Mediana   8.961242\n",
       "2  2022   Máximo  10.815489\n",
       "3  2022   Mínimo   7.027517\n",
       "4  2023    Média   8.914928\n",
       "5  2023  Mediana   8.961242\n",
       "6  2023   Máximo  10.815489\n",
       "7  2023   Mínimo   7.027517"
      ]
     },
     "execution_count": 145,
     "metadata": {},
     "output_type": "execute_result"
    }
   ],
   "source": [
    "unindo_selic(df)"
   ]
  },
  {
   "cell_type": "markdown",
   "id": "94182cfe",
   "metadata": {},
   "source": [
    "#### Trimestral"
   ]
  },
  {
   "cell_type": "code",
   "execution_count": 168,
   "id": "a7d2b234",
   "metadata": {},
   "outputs": [],
   "source": [
    "entidade = 'ExpectativasMercadoTrimestrais'\n",
    "df = obtendo_expectativas('Taxa de desocupação', entidade, 30)"
   ]
  },
  {
   "cell_type": "code",
   "execution_count": 169,
   "id": "22eadef8",
   "metadata": {},
   "outputs": [
    {
     "data": {
      "text/html": [
       "<div>\n",
       "<style scoped>\n",
       "    .dataframe tbody tr th:only-of-type {\n",
       "        vertical-align: middle;\n",
       "    }\n",
       "\n",
       "    .dataframe tbody tr th {\n",
       "        vertical-align: top;\n",
       "    }\n",
       "\n",
       "    .dataframe thead th {\n",
       "        text-align: right;\n",
       "    }\n",
       "</style>\n",
       "<table border=\"1\" class=\"dataframe\">\n",
       "  <thead>\n",
       "    <tr style=\"text-align: right;\">\n",
       "      <th></th>\n",
       "      <th>Data</th>\n",
       "      <th>DataReferencia</th>\n",
       "      <th>Media</th>\n",
       "      <th>Mediana</th>\n",
       "      <th>Minimo</th>\n",
       "      <th>Maximo</th>\n",
       "    </tr>\n",
       "  </thead>\n",
       "  <tbody>\n",
       "    <tr>\n",
       "      <th>0</th>\n",
       "      <td>2022-08-12</td>\n",
       "      <td>3/2022</td>\n",
       "      <td>9.1017</td>\n",
       "      <td>9.1000</td>\n",
       "      <td>7.7</td>\n",
       "      <td>10.10</td>\n",
       "    </tr>\n",
       "    <tr>\n",
       "      <th>1</th>\n",
       "      <td>2022-08-12</td>\n",
       "      <td>4/2022</td>\n",
       "      <td>8.9485</td>\n",
       "      <td>9.0000</td>\n",
       "      <td>6.2</td>\n",
       "      <td>10.70</td>\n",
       "    </tr>\n",
       "    <tr>\n",
       "      <th>2</th>\n",
       "      <td>2022-08-12</td>\n",
       "      <td>1/2023</td>\n",
       "      <td>9.8013</td>\n",
       "      <td>9.8781</td>\n",
       "      <td>7.1</td>\n",
       "      <td>11.67</td>\n",
       "    </tr>\n",
       "    <tr>\n",
       "      <th>3</th>\n",
       "      <td>2022-08-12</td>\n",
       "      <td>2/2023</td>\n",
       "      <td>9.7386</td>\n",
       "      <td>9.9000</td>\n",
       "      <td>7.3</td>\n",
       "      <td>11.76</td>\n",
       "    </tr>\n",
       "    <tr>\n",
       "      <th>4</th>\n",
       "      <td>2022-08-12</td>\n",
       "      <td>3/2023</td>\n",
       "      <td>9.6337</td>\n",
       "      <td>9.8950</td>\n",
       "      <td>5.7</td>\n",
       "      <td>11.72</td>\n",
       "    </tr>\n",
       "    <tr>\n",
       "      <th>...</th>\n",
       "      <td>...</td>\n",
       "      <td>...</td>\n",
       "      <td>...</td>\n",
       "      <td>...</td>\n",
       "      <td>...</td>\n",
       "      <td>...</td>\n",
       "    </tr>\n",
       "    <tr>\n",
       "      <th>420</th>\n",
       "      <td>2022-11-04</td>\n",
       "      <td>4/2022</td>\n",
       "      <td>8.4261</td>\n",
       "      <td>8.4000</td>\n",
       "      <td>7.5</td>\n",
       "      <td>9.10</td>\n",
       "    </tr>\n",
       "    <tr>\n",
       "      <th>421</th>\n",
       "      <td>2022-11-04</td>\n",
       "      <td>1/2023</td>\n",
       "      <td>9.2302</td>\n",
       "      <td>9.1000</td>\n",
       "      <td>7.5</td>\n",
       "      <td>11.67</td>\n",
       "    </tr>\n",
       "    <tr>\n",
       "      <th>422</th>\n",
       "      <td>2022-11-04</td>\n",
       "      <td>2/2023</td>\n",
       "      <td>9.1343</td>\n",
       "      <td>9.0000</td>\n",
       "      <td>7.7</td>\n",
       "      <td>11.76</td>\n",
       "    </tr>\n",
       "    <tr>\n",
       "      <th>423</th>\n",
       "      <td>2022-11-04</td>\n",
       "      <td>3/2023</td>\n",
       "      <td>9.0991</td>\n",
       "      <td>9.0000</td>\n",
       "      <td>7.7</td>\n",
       "      <td>11.72</td>\n",
       "    </tr>\n",
       "    <tr>\n",
       "      <th>424</th>\n",
       "      <td>2022-11-04</td>\n",
       "      <td>4/2023</td>\n",
       "      <td>9.0027</td>\n",
       "      <td>8.9050</td>\n",
       "      <td>7.6</td>\n",
       "      <td>11.23</td>\n",
       "    </tr>\n",
       "  </tbody>\n",
       "</table>\n",
       "<p>425 rows × 6 columns</p>\n",
       "</div>"
      ],
      "text/plain": [
       "           Data DataReferencia   Media  Mediana  Minimo  Maximo\n",
       "0    2022-08-12         3/2022  9.1017   9.1000     7.7   10.10\n",
       "1    2022-08-12         4/2022  8.9485   9.0000     6.2   10.70\n",
       "2    2022-08-12         1/2023  9.8013   9.8781     7.1   11.67\n",
       "3    2022-08-12         2/2023  9.7386   9.9000     7.3   11.76\n",
       "4    2022-08-12         3/2023  9.6337   9.8950     5.7   11.72\n",
       "..          ...            ...     ...      ...     ...     ...\n",
       "420  2022-11-04         4/2022  8.4261   8.4000     7.5    9.10\n",
       "421  2022-11-04         1/2023  9.2302   9.1000     7.5   11.67\n",
       "422  2022-11-04         2/2023  9.1343   9.0000     7.7   11.76\n",
       "423  2022-11-04         3/2023  9.0991   9.0000     7.7   11.72\n",
       "424  2022-11-04         4/2023  9.0027   8.9050     7.6   11.23\n",
       "\n",
       "[425 rows x 6 columns]"
      ]
     },
     "execution_count": 169,
     "metadata": {},
     "output_type": "execute_result"
    }
   ],
   "source": [
    "df"
   ]
  },
  {
   "cell_type": "code",
   "execution_count": 170,
   "id": "b73890fe",
   "metadata": {},
   "outputs": [],
   "source": [
    "def unindo_prev(x):\n",
    "    \n",
    "    # Selecionando trimestres\n",
    "    trimestres = ['4/2022', '1/2023', '2/2023', '3/2023', '4/2023']\n",
    "    \n",
    "    # Calculando as metricas\n",
    "    dicio_metricas = {}\n",
    "    df_aux = x.copy()\n",
    "    for trimestre in trimestres:\n",
    "        df_aux = x[(x['DataReferencia'] == trimestre)]\n",
    "        dicio_metricas['media_{}'.format(trimestre)] = df_aux['Media'].mean()\n",
    "        dicio_metricas['mediana_{}'.format(trimestre)] = df_aux['Mediana'].mean()\n",
    "    \n",
    "    # Colocando em um dataframe\n",
    "    df = pd.DataFrame(list(dicio_metricas.items()))\n",
    "    df.columns = ['metrica_trimestre', 'valor']\n",
    "    df[['metrica', 'trimestres']] = df['metrica_trimestre'].str.split('_', n = 1, expand = True)\n",
    "    df = df.drop(columns = 'metrica_trimestre')\n",
    "    df = df[['trimestres', 'metrica', 'valor']]\n",
    "    df['metrica'] = np.where(df['metrica'] == 'media', 'Média', 'Mediana')\n",
    "    \n",
    "    return df"
   ]
  },
  {
   "cell_type": "code",
   "execution_count": 171,
   "id": "d2556718",
   "metadata": {},
   "outputs": [
    {
     "data": {
      "text/html": [
       "<div>\n",
       "<style scoped>\n",
       "    .dataframe tbody tr th:only-of-type {\n",
       "        vertical-align: middle;\n",
       "    }\n",
       "\n",
       "    .dataframe tbody tr th {\n",
       "        vertical-align: top;\n",
       "    }\n",
       "\n",
       "    .dataframe thead th {\n",
       "        text-align: right;\n",
       "    }\n",
       "</style>\n",
       "<table border=\"1\" class=\"dataframe\">\n",
       "  <thead>\n",
       "    <tr style=\"text-align: right;\">\n",
       "      <th></th>\n",
       "      <th>trimestres</th>\n",
       "      <th>metrica</th>\n",
       "      <th>valor</th>\n",
       "    </tr>\n",
       "  </thead>\n",
       "  <tbody>\n",
       "    <tr>\n",
       "      <th>0</th>\n",
       "      <td>4/2022</td>\n",
       "      <td>Média</td>\n",
       "      <td>8.613451</td>\n",
       "    </tr>\n",
       "    <tr>\n",
       "      <th>1</th>\n",
       "      <td>4/2022</td>\n",
       "      <td>Mediana</td>\n",
       "      <td>8.639792</td>\n",
       "    </tr>\n",
       "    <tr>\n",
       "      <th>2</th>\n",
       "      <td>1/2023</td>\n",
       "      <td>Média</td>\n",
       "      <td>9.407821</td>\n",
       "    </tr>\n",
       "    <tr>\n",
       "      <th>3</th>\n",
       "      <td>1/2023</td>\n",
       "      <td>Mediana</td>\n",
       "      <td>9.407993</td>\n",
       "    </tr>\n",
       "    <tr>\n",
       "      <th>4</th>\n",
       "      <td>2/2023</td>\n",
       "      <td>Média</td>\n",
       "      <td>9.370833</td>\n",
       "    </tr>\n",
       "    <tr>\n",
       "      <th>5</th>\n",
       "      <td>2/2023</td>\n",
       "      <td>Mediana</td>\n",
       "      <td>9.391372</td>\n",
       "    </tr>\n",
       "    <tr>\n",
       "      <th>6</th>\n",
       "      <td>3/2023</td>\n",
       "      <td>Média</td>\n",
       "      <td>9.325289</td>\n",
       "    </tr>\n",
       "    <tr>\n",
       "      <th>7</th>\n",
       "      <td>3/2023</td>\n",
       "      <td>Mediana</td>\n",
       "      <td>9.413403</td>\n",
       "    </tr>\n",
       "    <tr>\n",
       "      <th>8</th>\n",
       "      <td>4/2023</td>\n",
       "      <td>Média</td>\n",
       "      <td>9.184332</td>\n",
       "    </tr>\n",
       "    <tr>\n",
       "      <th>9</th>\n",
       "      <td>4/2023</td>\n",
       "      <td>Mediana</td>\n",
       "      <td>9.312500</td>\n",
       "    </tr>\n",
       "  </tbody>\n",
       "</table>\n",
       "</div>"
      ],
      "text/plain": [
       "  trimestres  metrica     valor\n",
       "0     4/2022    Média  8.613451\n",
       "1     4/2022  Mediana  8.639792\n",
       "2     1/2023    Média  9.407821\n",
       "3     1/2023  Mediana  9.407993\n",
       "4     2/2023    Média  9.370833\n",
       "5     2/2023  Mediana  9.391372\n",
       "6     3/2023    Média  9.325289\n",
       "7     3/2023  Mediana  9.413403\n",
       "8     4/2023    Média  9.184332\n",
       "9     4/2023  Mediana  9.312500"
      ]
     },
     "execution_count": 171,
     "metadata": {},
     "output_type": "execute_result"
    }
   ],
   "source": [
    "unindo_prev(df)"
   ]
  },
  {
   "cell_type": "markdown",
   "id": "d9e40e27",
   "metadata": {},
   "source": [
    "#### Obtendo expectativas para o cambio: Taxa de Desocupação"
   ]
  },
  {
   "cell_type": "code",
   "execution_count": 11,
   "id": "2443ecb4",
   "metadata": {},
   "outputs": [
    {
     "name": "stderr",
     "output_type": "stream",
     "text": [
      "C:\\Users\\thari\\AppData\\Local\\Temp\\ipykernel_1204\\3837323876.py:21: FutureWarning: In a future version of pandas all arguments of StringMethods.split except for the argument 'pat' will be keyword-only.\n",
      "  df[['metrica', 'trimestres']] = df['metrica_trimestre'].str.split('_', 1, expand = True)\n"
     ]
    }
   ],
   "source": [
    "previsao_desocupacao = obtendo_expectativas('Taxa de desocupação')\n",
    "df_previsoes_desocupacao = unindo_prev(previsao_desocupacao)"
   ]
  },
  {
   "cell_type": "code",
   "execution_count": 12,
   "id": "43f66a41",
   "metadata": {},
   "outputs": [
    {
     "data": {
      "image/png": "[encoded data removed]",
      "text/plain": [
       "<Figure size 1008x432 with 1 Axes>"
      ]
     },
     "metadata": {
      "needs_background": "light"
     },
     "output_type": "display_data"
    }
   ],
   "source": [
    "fig, ax = plt.subplots(figsize = (14, 6))\n",
    "\n",
    "sns.barplot(data = df_previsoes_desocupacao, x = 'trimestres', y = 'valor', hue = 'metrica', palette = 'cividis')\n",
    "ax.set_title('Expectativa para o Desemprego', fontsize = 16)\n",
    "handles, labels = ax.get_legend_handles_labels()\n",
    "labels = ['Média', 'Mediana']\n",
    "ax.set_xlabel('Trimestres')\n",
    "ax.set_ylabel('%')\n",
    "ax.legend(title = 'Medidas', handles = handles, labels = labels, bbox_to_anchor = [1.1, 0.7, 0, 0])\n",
    "ax.spines['top'].set_visible(False)\n",
    "ax.spines['right'].set_visible(False)\n",
    "\n",
    "for container in ax.containers:\n",
    "    ax.bar_label(container, fmt = '%.2f%%', padding = 4)\n",
    "    \n",
    "fig.tight_layout()\n",
    "plt.show();"
   ]
  },
  {
   "cell_type": "markdown",
   "id": "36d5f2b4",
   "metadata": {},
   "source": [
    "#### Obtendo expectativas para o cambio: Dolar"
   ]
  },
  {
   "cell_type": "code",
   "execution_count": 209,
   "id": "e6592cf4",
   "metadata": {},
   "outputs": [],
   "source": [
    "\n",
    "entidade = 'ExpectativasMercadoAnuais'\n",
    "df = obtendo_expectativas('Balança comercial', entidade, 10)"
   ]
  },
  {
   "cell_type": "code",
   "execution_count": 215,
   "id": "ecb6f853",
   "metadata": {},
   "outputs": [
    {
     "data": {
      "text/plain": [
       "Saldo          365\n",
       "Exportações    362\n",
       "Importações    362\n",
       "Name: IndicadorDetalhe, dtype: int64"
      ]
     },
     "execution_count": 215,
     "metadata": {},
     "output_type": "execute_result"
    }
   ],
   "source": [
    "df.IndicadorDetalhe.value_counts()"
   ]
  },
  {
   "cell_type": "code",
   "execution_count": 85,
   "id": "8e7ea814",
   "metadata": {},
   "outputs": [],
   "source": [
    "def unindo_gov(x):\n",
    "    \n",
    "    # Selecionando trimestres\n",
    "    anos = ['2022', '2023']\n",
    "    \n",
    "    x = x[x['DataReferencia'].isin(anos)]\n",
    "    \n",
    "    # Calculando as metricas\n",
    "    dicio_metricas = {}\n",
    "    df_aux = x.copy()\n",
    "    for ano in anos:\n",
    "        dicio_metricas['media_{}'.format(ano)] = df_aux['Media'].mean()\n",
    "        dicio_metricas['mediana_{}'.format(ano)] = df_aux['Mediana'].mean()\n",
    "        dicio_metricas['maximo_{}'.format(ano)] = df_aux['Maximo'].mean()\n",
    "        dicio_metricas['minimo_{}'.format(ano)] = df_aux['Minimo'].mean()\n",
    "    \n",
    "    # Colocando em um dataframe\n",
    "    df = pd.DataFrame(list(dicio_metricas.items()))\n",
    "    df.columns = ['metrica_ano', 'valor']\n",
    "    df[['metrica', 'anos']] = df['metrica_ano'].str.split('_', n = 1, expand = True)\n",
    "    df = df.drop(columns = 'metrica_ano')\n",
    "    df = df[['anos', 'metrica', 'valor']]\n",
    "    \n",
    "    df['metrica'] = np.where(df['metrica'] == 'maximo', 'Máximo',\n",
    "                              np.where(df['metrica'] == 'media', 'Média',\n",
    "                                       np.where(df['metrica'] == 'minimo', 'Mínimo', 'Mediana')))\n",
    "    \n",
    "    return df"
   ]
  },
  {
   "cell_type": "code",
   "execution_count": 86,
   "id": "2c3c2b08",
   "metadata": {},
   "outputs": [
    {
     "ename": "NameError",
     "evalue": "name 'unindo_bc' is not defined",
     "output_type": "error",
     "traceback": [
      "\u001b[1;31m---------------------------------------------------------------------------\u001b[0m",
      "\u001b[1;31mNameError\u001b[0m                                 Traceback (most recent call last)",
      "\u001b[1;32m~\\AppData\\Local\\Temp\\ipykernel_12528\\4095127369.py\u001b[0m in \u001b[0;36m<module>\u001b[1;34m\u001b[0m\n\u001b[1;32m----> 1\u001b[1;33m \u001b[0munindo_bc\u001b[0m\u001b[1;33m(\u001b[0m\u001b[0mdf\u001b[0m\u001b[1;33m,\u001b[0m \u001b[1;34m'Saldo'\u001b[0m\u001b[1;33m)\u001b[0m\u001b[1;33m\u001b[0m\u001b[1;33m\u001b[0m\u001b[0m\n\u001b[0m",
      "\u001b[1;31mNameError\u001b[0m: name 'unindo_bc' is not defined"
     ]
    }
   ],
   "source": [
    "unindo_bc(df, 'Saldo')"
   ]
  },
  {
   "cell_type": "code",
   "execution_count": null,
   "id": "b59382bc",
   "metadata": {},
   "outputs": [],
   "source": []
  },
  {
   "cell_type": "code",
   "execution_count": null,
   "id": "2dab8af3",
   "metadata": {},
   "outputs": [],
   "source": []
  },
  {
   "cell_type": "code",
   "execution_count": 9,
   "id": "74cf1957",
   "metadata": {},
   "outputs": [
    {
     "name": "stderr",
     "output_type": "stream",
     "text": [
      "C:\\Users\\thari\\AppData\\Local\\Temp\\ipykernel_1204\\3837323876.py:21: FutureWarning: In a future version of pandas all arguments of StringMethods.split except for the argument 'pat' will be keyword-only.\n",
      "  df[['metrica', 'trimestres']] = df['metrica_trimestre'].str.split('_', 1, expand = True)\n"
     ]
    }
   ],
   "source": [
    "previsao_cambio = obtendo_expectativas('Câmbio')\n",
    "df_previsoes_cambio = unindo_prev(previsao_cambio)"
   ]
  },
  {
   "cell_type": "code",
   "execution_count": 10,
   "id": "1c2f954c",
   "metadata": {},
   "outputs": [
    {
     "data": {
      "image/png": "[encoded data removed]",
      "text/plain": [
       "<Figure size 1008x432 with 1 Axes>"
      ]
     },
     "metadata": {
      "needs_background": "light"
     },
     "output_type": "display_data"
    }
   ],
   "source": [
    "fig, ax = plt.subplots(figsize = (14, 6))\n",
    "\n",
    "sns.barplot(data = df_previsoes_cambio, x = 'trimestres', y = 'valor', hue = 'metrica', palette = 'cividis')\n",
    "ax.set_title('Expectativa para o Dólar', fontsize = 16)\n",
    "handles, labels = ax.get_legend_handles_labels()\n",
    "labels = ['Média', 'Mediana']\n",
    "ax.set_xlabel('Trimestres')\n",
    "ax.set_ylabel('Reais')\n",
    "ax.legend(title = 'Medidas', handles = handles, labels = labels, bbox_to_anchor = [1.1, 0.7, 0, 0])\n",
    "ax.spines['top'].set_visible(False)\n",
    "ax.spines['right'].set_visible(False)\n",
    "\n",
    "for container in ax.containers:\n",
    "    ax.bar_label(container, fmt = '%.4f', padding = 4)\n",
    "    \n",
    "fig.tight_layout()\n",
    "plt.show();"
   ]
  },
  {
   "cell_type": "markdown",
   "id": "3b249634",
   "metadata": {},
   "source": [
    "### Expectativas Governo"
   ]
  },
  {
   "cell_type": "code",
   "execution_count": 35,
   "id": "ed24aef0",
   "metadata": {},
   "outputs": [],
   "source": [
    "expec = Expectativas()"
   ]
  },
  {
   "cell_type": "code",
   "execution_count": 94,
   "id": "c09f02c7",
   "metadata": {},
   "outputs": [],
   "source": [
    "entidade = 'ExpectativasMercadoAnuais'\n",
    "df = obtendo_expectativas('Investimento direto no país', entidade, 10)"
   ]
  },
  {
   "cell_type": "code",
   "execution_count": 95,
   "id": "762db502",
   "metadata": {},
   "outputs": [
    {
     "data": {
      "text/html": [
       "<div>\n",
       "<style scoped>\n",
       "    .dataframe tbody tr th:only-of-type {\n",
       "        vertical-align: middle;\n",
       "    }\n",
       "\n",
       "    .dataframe tbody tr th {\n",
       "        vertical-align: top;\n",
       "    }\n",
       "\n",
       "    .dataframe thead th {\n",
       "        text-align: right;\n",
       "    }\n",
       "</style>\n",
       "<table border=\"1\" class=\"dataframe\">\n",
       "  <thead>\n",
       "    <tr style=\"text-align: right;\">\n",
       "      <th></th>\n",
       "      <th>Indicador</th>\n",
       "      <th>IndicadorDetalhe</th>\n",
       "      <th>Data</th>\n",
       "      <th>DataReferencia</th>\n",
       "      <th>Media</th>\n",
       "      <th>Mediana</th>\n",
       "      <th>Minimo</th>\n",
       "      <th>Maximo</th>\n",
       "    </tr>\n",
       "  </thead>\n",
       "  <tbody>\n",
       "    <tr>\n",
       "      <th>0</th>\n",
       "      <td>Investimento direto no país</td>\n",
       "      <td>None</td>\n",
       "      <td>2022-08-15</td>\n",
       "      <td>2022</td>\n",
       "      <td>61.8532</td>\n",
       "      <td>58.00</td>\n",
       "      <td>45.0</td>\n",
       "      <td>88.0</td>\n",
       "    </tr>\n",
       "    <tr>\n",
       "      <th>1</th>\n",
       "      <td>Investimento direto no país</td>\n",
       "      <td>None</td>\n",
       "      <td>2022-08-15</td>\n",
       "      <td>2023</td>\n",
       "      <td>66.2800</td>\n",
       "      <td>64.50</td>\n",
       "      <td>50.0</td>\n",
       "      <td>90.0</td>\n",
       "    </tr>\n",
       "    <tr>\n",
       "      <th>2</th>\n",
       "      <td>Investimento direto no país</td>\n",
       "      <td>None</td>\n",
       "      <td>2022-08-15</td>\n",
       "      <td>2024</td>\n",
       "      <td>70.6642</td>\n",
       "      <td>70.00</td>\n",
       "      <td>50.0</td>\n",
       "      <td>90.0</td>\n",
       "    </tr>\n",
       "    <tr>\n",
       "      <th>3</th>\n",
       "      <td>Investimento direto no país</td>\n",
       "      <td>None</td>\n",
       "      <td>2022-08-15</td>\n",
       "      <td>2025</td>\n",
       "      <td>74.5426</td>\n",
       "      <td>73.41</td>\n",
       "      <td>55.0</td>\n",
       "      <td>98.0</td>\n",
       "    </tr>\n",
       "  </tbody>\n",
       "</table>\n",
       "</div>"
      ],
      "text/plain": [
       "                     Indicador IndicadorDetalhe        Data DataReferencia  \\\n",
       "0  Investimento direto no país             None  2022-08-15           2022   \n",
       "1  Investimento direto no país             None  2022-08-15           2023   \n",
       "2  Investimento direto no país             None  2022-08-15           2024   \n",
       "3  Investimento direto no país             None  2022-08-15           2025   \n",
       "\n",
       "     Media  Mediana  Minimo  Maximo  \n",
       "0  61.8532    58.00    45.0    88.0  \n",
       "1  66.2800    64.50    50.0    90.0  \n",
       "2  70.6642    70.00    50.0    90.0  \n",
       "3  74.5426    73.41    55.0    98.0  "
      ]
     },
     "execution_count": 95,
     "metadata": {},
     "output_type": "execute_result"
    }
   ],
   "source": [
    "df.head(4)"
   ]
  },
  {
   "cell_type": "code",
   "execution_count": 96,
   "id": "fbc0ba36",
   "metadata": {},
   "outputs": [
    {
     "data": {
      "text/plain": [
       "69.61625108695652"
      ]
     },
     "execution_count": 96,
     "metadata": {},
     "output_type": "execute_result"
    }
   ],
   "source": [
    "df[df['DataReferencia'] == '2023']['Media'].mean()"
   ]
  },
  {
   "cell_type": "code",
   "execution_count": 97,
   "id": "2924bb64",
   "metadata": {},
   "outputs": [
    {
     "data": {
      "text/plain": [
       "66.39609019607842"
      ]
     },
     "execution_count": 97,
     "metadata": {},
     "output_type": "execute_result"
    }
   ],
   "source": [
    "df[df['DataReferencia'] == '2022']['Media'].mean()"
   ]
  },
  {
   "cell_type": "code",
   "execution_count": 98,
   "id": "03053a49",
   "metadata": {},
   "outputs": [],
   "source": [
    "def unindo_gov(x):\n",
    "    \n",
    "    # Selecionando trimestres\n",
    "    anos = ['2022', '2023']\n",
    "    \n",
    "    x = x[x['DataReferencia'].isin(anos)]\n",
    "    \n",
    "    # Calculando as metricas\n",
    "    dicio_metricas = {}\n",
    "    df_aux = x.copy()\n",
    "    for ano in anos:\n",
    "        df_aux = x[(x['DataReferencia'] == ano)]\n",
    "        dicio_metricas['media_{}'.format(ano)] = df_aux['Media'].mean()\n",
    "        dicio_metricas['mediana_{}'.format(ano)] = df_aux['Mediana'].mean()\n",
    "        dicio_metricas['maximo_{}'.format(ano)] = df_aux['Maximo'].mean()\n",
    "        dicio_metricas['minimo_{}'.format(ano)] = df_aux['Minimo'].mean()\n",
    "    \n",
    "    # Colocando em um dataframe\n",
    "    df = pd.DataFrame(list(dicio_metricas.items()))\n",
    "    df.columns = ['metrica_ano', 'valor']\n",
    "    df[['metrica', 'anos']] = df['metrica_ano'].str.split('_', n = 1, expand = True)\n",
    "    df = df.drop(columns = 'metrica_ano')\n",
    "    df = df[['anos', 'metrica', 'valor']]\n",
    "    \n",
    "    df['metrica'] = np.where(df['metrica'] == 'maximo', 'Máximo',\n",
    "                              np.where(df['metrica'] == 'media', 'Média',\n",
    "                                       np.where(df['metrica'] == 'minimo', 'Mínimo', 'Mediana')))\n",
    "    \n",
    "    return df"
   ]
  },
  {
   "cell_type": "code",
   "execution_count": 99,
   "id": "52ad27df",
   "metadata": {},
   "outputs": [],
   "source": [
    "a = unindo_gov(df)"
   ]
  },
  {
   "cell_type": "code",
   "execution_count": 100,
   "id": "da89c131",
   "metadata": {},
   "outputs": [
    {
     "data": {
      "text/html": [
       "<div>\n",
       "<style scoped>\n",
       "    .dataframe tbody tr th:only-of-type {\n",
       "        vertical-align: middle;\n",
       "    }\n",
       "\n",
       "    .dataframe tbody tr th {\n",
       "        vertical-align: top;\n",
       "    }\n",
       "\n",
       "    .dataframe thead th {\n",
       "        text-align: right;\n",
       "    }\n",
       "</style>\n",
       "<table border=\"1\" class=\"dataframe\">\n",
       "  <thead>\n",
       "    <tr style=\"text-align: right;\">\n",
       "      <th></th>\n",
       "      <th>anos</th>\n",
       "      <th>metrica</th>\n",
       "      <th>valor</th>\n",
       "    </tr>\n",
       "  </thead>\n",
       "  <tbody>\n",
       "    <tr>\n",
       "      <th>0</th>\n",
       "      <td>2022</td>\n",
       "      <td>Média</td>\n",
       "      <td>66.396090</td>\n",
       "    </tr>\n",
       "    <tr>\n",
       "      <th>1</th>\n",
       "      <td>2022</td>\n",
       "      <td>Mediana</td>\n",
       "      <td>63.826446</td>\n",
       "    </tr>\n",
       "    <tr>\n",
       "      <th>2</th>\n",
       "      <td>2022</td>\n",
       "      <td>Máximo</td>\n",
       "      <td>88.104975</td>\n",
       "    </tr>\n",
       "    <tr>\n",
       "      <th>3</th>\n",
       "      <td>2022</td>\n",
       "      <td>Mínimo</td>\n",
       "      <td>51.868627</td>\n",
       "    </tr>\n",
       "    <tr>\n",
       "      <th>4</th>\n",
       "      <td>2023</td>\n",
       "      <td>Média</td>\n",
       "      <td>69.616251</td>\n",
       "    </tr>\n",
       "    <tr>\n",
       "      <th>5</th>\n",
       "      <td>2023</td>\n",
       "      <td>Mediana</td>\n",
       "      <td>67.563586</td>\n",
       "    </tr>\n",
       "    <tr>\n",
       "      <th>6</th>\n",
       "      <td>2023</td>\n",
       "      <td>Máximo</td>\n",
       "      <td>92.108989</td>\n",
       "    </tr>\n",
       "    <tr>\n",
       "      <th>7</th>\n",
       "      <td>2023</td>\n",
       "      <td>Mínimo</td>\n",
       "      <td>51.476428</td>\n",
       "    </tr>\n",
       "  </tbody>\n",
       "</table>\n",
       "</div>"
      ],
      "text/plain": [
       "   anos  metrica      valor\n",
       "0  2022    Média  66.396090\n",
       "1  2022  Mediana  63.826446\n",
       "2  2022   Máximo  88.104975\n",
       "3  2022   Mínimo  51.868627\n",
       "4  2023    Média  69.616251\n",
       "5  2023  Mediana  67.563586\n",
       "6  2023   Máximo  92.108989\n",
       "7  2023   Mínimo  51.476428"
      ]
     },
     "execution_count": 100,
     "metadata": {},
     "output_type": "execute_result"
    }
   ],
   "source": [
    "a"
   ]
  },
  {
   "cell_type": "code",
   "execution_count": null,
   "id": "56d1bb2d",
   "metadata": {},
   "outputs": [],
   "source": []
  },
  {
   "cell_type": "code",
   "execution_count": null,
   "id": "cf9ede01",
   "metadata": {},
   "outputs": [],
   "source": []
  },
  {
   "cell_type": "code",
   "execution_count": 9,
   "id": "ecc7a83d",
   "metadata": {},
   "outputs": [
    {
     "data": {
      "text/plain": [
       "Balança comercial                                  1074\n",
       "Dívida bruta do governo geral                       775\n",
       "Resultado primário                                  739\n",
       "Resultado nominal                                   590\n",
       "Dívida líquida do setor público                     587\n",
       "Câmbio                                              570\n",
       "IGP-M                                               570\n",
       "IPCA                                                570\n",
       "PIB Total                                           570\n",
       "Selic                                               570\n",
       "Taxa de desocupação                                 554\n",
       "IPCA Livres                                         549\n",
       "IPCA Administrados                                  548\n",
       "IPCA Alimentação no domicílio                       519\n",
       "IPCA Bens industrializados                          510\n",
       "IPCA Serviços                                       510\n",
       "PIB Serviços                                        429\n",
       "PIB Indústria                                       426\n",
       "PIB Agropecuária                                    425\n",
       "Investimento direto no país                         389\n",
       "Conta corrente                                      381\n",
       "PIB Importação de bens e serviços                   377\n",
       "PIB Exportação de bens e serviços                   377\n",
       "PIB Formação Bruta de Capital Fixo                  377\n",
       "PIB Despesa de consumo da administração pública     377\n",
       "PIB Despesa de consumo das famílias                 375\n",
       "Name: Indicador, dtype: int64"
      ]
     },
     "execution_count": 9,
     "metadata": {},
     "output_type": "execute_result"
    }
   ],
   "source": [
    "df.Indicador.value_counts()"
   ]
  }
 ],
 "metadata": {
  "kernelspec": {
   "display_name": "Python 3 (ipykernel)",
   "language": "python",
   "name": "python3"
  },
  "language_info": {
   "codemirror_mode": {
    "name": "ipython",
    "version": 3
   },
   "file_extension": ".py",
   "mimetype": "text/x-python",
   "name": "python",
   "nbconvert_exporter": "python",
   "pygments_lexer": "ipython3",
   "version": "3.9.7"
  }
 },
 "nbformat": 4,
 "nbformat_minor": 5
}
